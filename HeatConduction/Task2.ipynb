{
 "cells": [
  {
   "cell_type": "code",
   "execution_count": 1,
   "metadata": {},
   "outputs": [],
   "source": [
    "import numpy as np\n",
    "import matplotlib.pyplot as plt\n",
    "from mpl_toolkits.mplot3d import Axes3D\n",
    "import sys, os\n",
    "import math\n",
    "from scipy import special\n",
    "import scipy\n",
    "from matplotlib.animation import FuncAnimation\n",
    "plt.rcParams['animation.ffmpeg_path']='‪C:\\\\FFmpeg\\bin\\ffmpeg.exe'\n",
    "\n",
    "erf = special.erf"
   ]
  },
  {
   "cell_type": "code",
   "execution_count": 48,
   "metadata": {},
   "outputs": [],
   "source": [
    "x = np.linspace(-3,3,1000)\n",
    "def Heat(x,t, alpha = 1):\n",
    "    q = np.sqrt(4*alpha*t)\n",
    "    return 1/2*(erf((1/2-x)/(q))-erf((-1/2-x)/(q)))"
   ]
  },
  {
   "cell_type": "code",
   "execution_count": 52,
   "metadata": {},
   "outputs": [
    {
     "data": {
      "image/png": "[encoded data removed]",
      "text/plain": [
       "<Figure size 432x288 with 1 Axes>"
      ]
     },
     "metadata": {
      "needs_background": "light"
     },
     "output_type": "display_data"
    }
   ],
   "source": [
    "fig = plt.figure()\n",
    "ax = plt.axes(xlim=(-3, 3), ylim=(0, 1), title = \"One dimensional heat evolution\")\n",
    "line, = ax.plot([], [], lw=1)\n",
    "\n",
    "def init():\n",
    "    line.set_data([], [])\n",
    "    return line,\n",
    "def animate(i):\n",
    "    i = i*0.01\n",
    "    if i != 0:\n",
    "        y = Heat(x, i)\n",
    "        line.set_data(x, y)\n",
    "        line.set_label(f\"t = {round(i,3)}\")\n",
    "        plt.legend(bbox_to_anchor=(1, 0.5))\n",
    "    else:\n",
    "        pass\n",
    "    return line,\n",
    "\"\"\"\"\n",
    "anim = FuncAnimation(fig, animate, init_func=init,\n",
    "                               frames=50, blit=False)\n",
    "ax.grid()\n",
    "plt.xlabel(r\"$x-axis$\")\n",
    "plt.ylabel(r\"$u(x,t)$\")\n",
    "\n",
    "anim.save('Task1.gif', fps=10, extra_args=['-vcodec', 'libx264'],\n",
    "         writer = 'pillow')\n",
    "\n",
    "plt.show()\n",
    "\"\"\"\n",
    "plt.plot(x, Heat(x, 0.1))\n",
    "plt.ylabel(r\"Heat $K$\")\n",
    "plt.xlabel(r\"Distance $m$\")\n",
    "plt.savefig(\"Task1.png\")\n",
    "plt.show()"
   ]
  },
  {
   "cell_type": "markdown",
   "metadata": {},
   "source": [
    "# Task 2\n",
    "## We begin by making a meshgrid of a specific size"
   ]
  },
  {
   "cell_type": "code",
   "execution_count": 16,
   "metadata": {},
   "outputs": [],
   "source": [
    "import time\n",
    "global X,Y\n",
    "L = 250\n",
    "Boundary = 6360*10**3\n",
    "x, y = np.linspace(0,Boundary,L), np.linspace(0,Boundary,L).reshape(-1,1)\n",
    "X,Y = np.meshgrid(x,y, indexing = \"xy\")"
   ]
  },
  {
   "cell_type": "markdown",
   "metadata": {},
   "source": [
    "# This works\n",
    "### This produces a both a plot and an animation.\n",
    "My problem is that it's not centered where I want it, it also scales with $L$ which it should not."
   ]
  },
  {
   "cell_type": "code",
   "execution_count": 17,
   "metadata": {},
   "outputs": [
    {
     "data": {
      "image/png": "[encoded data removed]",
      "text/plain": [
       "<Figure size 432x288 with 2 Axes>"
      ]
     },
     "metadata": {
      "needs_background": "light"
     },
     "output_type": "display_data"
    },
    {
     "name": "stdout",
     "output_type": "stream",
     "text": [
      "Time : 24.826229572296143 s\n"
     ]
    }
   ],
   "source": [
    "start = time.time()\n",
    "fig = plt.figure()\n",
    "def Heat3(x,y,Temp, alpha = np.ones((L,L)), Time = 0.0001):\n",
    "    \"\"\" Returns the temperature at a time t, given a position (x,y)\"\"\"\n",
    "    l = np.sqrt(2)\n",
    "    q = np.sqrt(40*alpha*Time)\n",
    "    r = np.sqrt((x-6360e3/l)**2+(y-6360e3/l)**2)\n",
    "    k1 = 1e5 - r\n",
    "    k2 = -1e5 - r\n",
    "    return 10000*np.exp(-Time/(4.4e13))*(1/2*(erf(k1/q)-erf(k2/q)))+Temp\n",
    "\n",
    "def Initialize(x,y, time=0.0000001):\n",
    "    time = time* 4.4e11\n",
    "    T = np.zeros((L,L))\n",
    "    Alpha = np.zeros((L,L))\n",
    "    R1 = 6360e3\n",
    "    R2 = 5150e3\n",
    "    R3 = 2890e3\n",
    "    R4 = 60e3\n",
    "    Radii = [R4,R3,R2,R1]\n",
    "    Temperatures = [6000,3800, 3000, 2000]\n",
    "    a = [5e-3,3.7e-7, 5.8e-4,2.0e-6]\n",
    "    r = np.sqrt(x**2+y**2)\n",
    "    for i in range(len(Radii)):\n",
    "        T[r>=Radii[i]] = Temperatures[i]\n",
    "        Alpha[r>=Radii[i]] = a[i]\n",
    "    Alpha = np.ones((L,L))*0.0000001 + Alpha\n",
    "    Temp = Heat3(x,y,T, Time = time,alpha = Alpha)\n",
    "    return Temp\n",
    "\n",
    "cax = plt.imshow(Initialize(X,Y),extent = [0,6360e3,0,6360e3], \n",
    "                origin = \"lower\", animated=False, cmap = \"jet\", \n",
    "                 interpolation = \"bilinear\")\n",
    "\n",
    "def updatefig3(*args):\n",
    "    i = np.array(args[0])+0.000001\n",
    "    if i != 0:\n",
    "        a = Initialize(X, Y, i)\n",
    "        cax.set_array(a)\n",
    "        plt.title(f\"Astroid impact on the earth\\nTime = {round((i*4.4e11)/(60**2*24*7*52),0)}years\")\n",
    "        plt.xlabel(r\"Distance $m$\")\n",
    "        plt.ylabel(r\"Distance $m$\")\n",
    "        return fig,\n",
    "    else:\n",
    "        pass\n",
    "\n",
    "ani = FuncAnimation(fig, updatefig3, interval=1, frames = 200, blit=True)\n",
    "plt.colorbar()\n",
    "#This typ-loop tries to save the file, and depending on which machine you're using\n",
    "#the saving will work and save the corresponding .gif-file.\n",
    "try:\n",
    "    ani.save('Task3windows.gif', fps=20, writer = 'pillow', extra_args=['-vcodec', 'libx264'])\n",
    "except:\n",
    "    ani.save('Task3Mac.gif', fps=20, writer = 'pillow')\n",
    "\n",
    "plt.show()\n",
    "print(\"Time :\", time.time()-start, \"s\")\n",
    "\n",
    "def Frame1():\n",
    "    cax = plt.imshow(Initialize(X,Y, time = 1),extent = [0,6360e3,0,6360e3], \n",
    "                origin = \"lower\", animated=False, cmap = \"jet\", \n",
    "                 interpolation = \"bilinear\")\n",
    "    plt.colorbar()\n",
    "    plt.title(f\"Astroid impact on the earth\\nTime = {round((10**4)/(60**2*24*7*52),0)}years\")\n",
    "    plt.xlabel(r\"Distance $m$\")\n",
    "    plt.ylabel(r\"Distance $m$\")\n",
    "    plt.savefig(\"Task3mac.png\")\n",
    "#Frame1()"
   ]
  },
  {
   "cell_type": "code",
   "execution_count": 11,
   "metadata": {},
   "outputs": [
    {
     "data": {
      "image/png": "[encoded data removed]",
      "text/plain": [
       "<Figure size 432x288 with 2 Axes>"
      ]
     },
     "metadata": {
      "needs_background": "light"
     },
     "output_type": "display_data"
    }
   ],
   "source": [
    "L = 100\n",
    "fig = plt.figure()\n",
    "xlist = np.linspace(0,50, L); ylist = np.linspace(0,50,L)\n",
    "XX, YY = np.meshgrid(xlist, ylist)\n",
    "def Heat4(x, y, t, alpha = 2):\n",
    "    r = np.sqrt((17.5-x)**2+(37.5-y)**2)\n",
    "    k1 = 5/2 - r\n",
    "    k2 = -5/2 - r\n",
    "    q = np.sqrt(4*alpha * t)\n",
    "    return 1/2*(erf(k1/q)-erf(k2/q))\n",
    "\n",
    "def animate(t):\n",
    "    t+=0.1\n",
    "    u = Heat4(XX, YY ,t)\n",
    "    cax.set_array(u)\n",
    "    plt.title(f\"Heat at a fixed position, \\nTime = {round(t,0)/10}s\")\n",
    "    plt.xlabel(r\"Distance $m$\")\n",
    "    plt.ylabel(r\"Distance $m$\")\n",
    "    return fig,\n",
    "\n",
    "\"\"\"\n",
    "cax = plt.imshow(Heat4(XX,YY, t = 0.0001),extent = [0, 50,0,50], \n",
    "                origin = \"lower\", animated=True, cmap = \"jet\", \n",
    "                 interpolation = \"bilinear\")\n",
    "\n",
    "ani = FuncAnimation(fig, animate, interval=1, frames = 200, blit=True)\n",
    "plt.colorbar()\n",
    "ani.save('Task2Mac.gif', fps=20, writer = 'pillow')\n",
    "plt.show()\n",
    "\"\"\"\n",
    "cax = plt.imshow(Heat4(XX,YY, t = 1),extent = [0, 50,0,50], \n",
    "                origin = \"lower\", animated=False, cmap = \"jet\", \n",
    "                 interpolation = \"bilinear\")\n",
    "plt.colorbar()\n",
    "plt.title(\"Heat at a fixed position\")\n",
    "plt.xlabel(r\"Distance $m$\")\n",
    "plt.ylabel(r\"Distance $m$\")\n",
    "plt.savefig(\"Task2Mac.png\")\n",
    "plt.show()"
   ]
  },
  {
   "cell_type": "code",
   "execution_count": null,
   "metadata": {},
   "outputs": [],
   "source": []
  }
 ],
 "metadata": {
  "kernelspec": {
   "display_name": "Python 3",
   "language": "python",
   "name": "python3"
  },
  "language_info": {
   "codemirror_mode": {
    "name": "ipython",
    "version": 3
   },
   "file_extension": ".py",
   "mimetype": "text/x-python",
   "name": "python",
   "nbconvert_exporter": "python",
   "pygments_lexer": "ipython3",
   "version": "3.8.5"
  }
 },
 "nbformat": 4,
 "nbformat_minor": 4
}
