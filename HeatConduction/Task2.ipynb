{
 "cells": [
  {
   "cell_type": "code",
   "execution_count": 1,
   "metadata": {},
   "outputs": [],
   "source": [
    "import numpy as np\n",
    "import matplotlib.pyplot as plt\n",
    "from mpl_toolkits.mplot3d import Axes3D\n",
    "import sys, os\n",
    "import math\n",
    "from scipy import special\n",
    "from matplotlib.animation import FuncAnimation\n",
    "plt.rcParams['animation.ffmpeg_path']='‪C:\\\\FFmpeg\\bin\\ffmpeg.exe'\n",
    "\n",
    "erf = special.erf"
   ]
  },
  {
   "cell_type": "code",
   "execution_count": null,
   "metadata": {},
   "outputs": [],
   "source": [
    "x = np.linspace(-3,3,1000)\n",
    "def Heat(x,t, alpha = 1):\n",
    "    q = np.sqrt(4*alpha*t)\n",
    "    return 1/2*(erf((1/2-x)/(q))-erf((-1/2-x)/(q)))"
   ]
  },
  {
   "cell_type": "code",
   "execution_count": null,
   "metadata": {},
   "outputs": [],
   "source": [
    "fig = plt.figure()\n",
    "ax = plt.axes(xlim=(-3, 3), ylim=(0, 1), title = \"One dimensional heat evolution\")\n",
    "line, = ax.plot([], [], lw=1)\n",
    "\n",
    "def init():\n",
    "    line.set_data([], [])\n",
    "    return line,\n",
    "def animate(i):\n",
    "    i = i*0.01\n",
    "    if i != 0:\n",
    "        y = Heat(x, i)\n",
    "        line.set_data(x, y)\n",
    "        line.set_label(f\"t = {round(i,3)}\")\n",
    "        plt.legend(bbox_to_anchor=(1, 0.5))\n",
    "    else:\n",
    "        pass\n",
    "    return line,\n",
    "\n",
    "anim = FuncAnimation(fig, animate, init_func=init,\n",
    "                               frames=50, blit=False)\n",
    "ax.grid()\n",
    "plt.xlabel(r\"$x-axis$\")\n",
    "plt.ylabel(r\"$u(x,t)$\")\n",
    "\n",
    "anim.save('Task1.gif', fps=10, extra_args=['-vcodec', 'libx264'],\n",
    "         writer = 'pillow')\n",
    "\n",
    "plt.show()"
   ]
  },
  {
   "cell_type": "markdown",
   "metadata": {},
   "source": [
    "# Task 2\n",
    "## We begin by making a meshgrid of a specific size"
   ]
  },
  {
   "cell_type": "code",
   "execution_count": 72,
   "metadata": {},
   "outputs": [],
   "source": [
    "L = 50\n",
    "x, y = np.linspace(0,50,L), np.linspace(0,50,L).reshape(-1,1)\n",
    "X,Y = np.meshgrid(x,y, indexing = \"xy\")"
   ]
  },
  {
   "cell_type": "markdown",
   "metadata": {},
   "source": [
    "# This works\n",
    "### This produces a both a plot and an animation.\n",
    "My problem is that it's not centered where I want it, it also scales with $L$ which it should not."
   ]
  },
  {
   "cell_type": "code",
   "execution_count": 74,
   "metadata": {},
   "outputs": [
    {
     "data": {
      "image/png": "[encoded data removed]",
      "text/plain": [
       "<Figure size 432x288 with 2 Axes>"
      ]
     },
     "metadata": {
      "needs_background": "light"
     },
     "output_type": "display_data"
    }
   ],
   "source": [
    "fig = plt.figure()\n",
    "def Heat2(x,y,t = 0.0000001, alpha = 2):\n",
    "    \"\"\" Returns the temperature at a time t, given a position (x,y)\"\"\"\n",
    "    q = np.sqrt(4*alpha*t)\n",
    "    r = np.sqrt((x-17.5)**2+(y-37.5)**2)\n",
    "    k1 = 5/2 - r\n",
    "    k2 = -5/2 - r\n",
    "    return 100*(1/2*(erf(k1/q)-erf(k2/q)))\n",
    "\n",
    "\n",
    "im = plt.imshow(Heat2(X, Y), animated=True)\n",
    "def updatefig(*args):\n",
    "    i = args[0]\n",
    "    if i != 0:\n",
    "        im.set_array(Heat2(X, Y, i*0.1))\n",
    "        return im,\n",
    "    else:\n",
    "        a = (np.zeros([L,L]))\n",
    "        #print(len(a))\n",
    "        im.set_array(a)\n",
    "        return im,\n",
    "\n",
    "ani = FuncAnimation(fig, updatefig, interval=50, blit=True)\n",
    "plt.colorbar()\n",
    "ani.save('Task2.gif', fps=10, extra_args=['-vcodec', 'libx264'],\n",
    "         writer = 'pillow')\n",
    "plt.show()\n"
   ]
  },
  {
   "cell_type": "code",
   "execution_count": null,
   "metadata": {},
   "outputs": [],
   "source": [
    "#An animated image\n",
    "#=================\n",
    "\n",
    "#This example demonstrates how to animate an image.\n",
    "import numpy as np\n",
    "import matplotlib.pyplot as plt\n",
    "import matplotlib.animation as animation\n",
    "\n",
    "fig = plt.figure()\n",
    "\n",
    "\n",
    "def f(x, y):\n",
    "    return np.sin(x) + np.cos(y)\n",
    "\n",
    "x = np.linspace(0, 2 * np.pi, 120)\n",
    "y = np.linspace(0, 2 * np.pi, 100).reshape(-1, 1)\n",
    "\n",
    "im = plt.imshow(f(x, y), animated=True)\n",
    "\n",
    "\n",
    "def updatefig(*args):\n",
    "    global x, y\n",
    "    x += np.pi / 15.\n",
    "    y += np.pi / 20.\n",
    "    im.set_array(f(x, y))\n",
    "    return im,\n",
    "\n",
    "ani = animation.FuncAnimation(fig, updatefig, interval=50, blit=True)\n",
    "ani.save('test.gif', fps=10, extra_args=['-vcodec', 'libx264'],\n",
    "         writer = 'pillow')\n",
    "plt.show()"
   ]
  },
  {
   "cell_type": "code",
   "execution_count": null,
   "metadata": {},
   "outputs": [],
   "source": []
  }
 ],
 "metadata": {
  "kernelspec": {
   "display_name": "Python 3",
   "language": "python",
   "name": "python3"
  },
  "language_info": {
   "codemirror_mode": {
    "name": "ipython",
    "version": 3
   },
   "file_extension": ".py",
   "mimetype": "text/x-python",
   "name": "python",
   "nbconvert_exporter": "python",
   "pygments_lexer": "ipython3",
   "version": "3.8.3"
  }
 },
 "nbformat": 4,
 "nbformat_minor": 4
}
