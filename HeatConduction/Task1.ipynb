{
 "cells": [
  {
   "cell_type": "code",
   "execution_count": 1,
   "metadata": {},
   "outputs": [],
   "source": [
    "import numpy as np\n",
    "import matplotlib.pyplot as plt\n",
    "import sys, os\n",
    "import math\n",
    "from scipy import special\n",
    "from matplotlib.animation import FuncAnimation\n",
    "plt.rcParams['animation.ffmpeg_path']='‪C:\\\\FFmpeg\\bin\\ffmpeg.exe'\n",
    "\n",
    "erf = special.erf"
   ]
  },
  {
   "cell_type": "code",
   "execution_count": 2,
   "metadata": {},
   "outputs": [],
   "source": [
    "x = np.linspace(-3,3,1000)\n",
    "t = np.linspace(0.0000001,50,1000)\n",
    "def Heat(x,t, alpha = 1):\n",
    "    q = np.sqrt(4*alpha*t)\n",
    "    return 1/2*(erf((1/2-x)/(q))-erf((-1/2-x)/(q)))"
   ]
  },
  {
   "cell_type": "code",
   "execution_count": 3,
   "metadata": {},
   "outputs": [
    {
     "data": {
      "image/png": "[encoded data removed]",
      "text/plain": [
       "<Figure size 432x288 with 1 Axes>"
      ]
     },
     "metadata": {
      "needs_background": "light"
     },
     "output_type": "display_data"
    }
   ],
   "source": [
    "fig = plt.figure()\n",
    "ax = plt.axes(xlim=(-3, 3), ylim=(0, 1), title = \"One dimensional heat evolution\")\n",
    "line, = ax.plot([], [], lw=1)\n",
    "\n",
    "def init():\n",
    "    line.set_data([], [])\n",
    "    return line,\n",
    "def animate(i):\n",
    "    i = i*0.01\n",
    "    if i != 0:\n",
    "        y = Heat(x, i)\n",
    "        line.set_data(x, y)\n",
    "        line.set_label(f\"t = {round(i,3)}\")\n",
    "        plt.legend(bbox_to_anchor=(1, 0.5))\n",
    "    else:\n",
    "        pass\n",
    "    #print(i)\n",
    "    return line,\n",
    "\n",
    "anim = FuncAnimation(fig, animate, init_func=init,\n",
    "                               frames=50, blit=False)\n",
    "ax.grid()\n",
    "plt.xlabel(r\"$x-axis$\")\n",
    "plt.ylabel(r\"$u(x,t)$\")\n",
    "\n",
    "#anim.save('test.gif', writer='pillow')\n",
    "anim.save('Task1.gif', fps=10, extra_args=['-vcodec', 'libx264'],\n",
    "         writer = 'pillow')\n",
    "\n",
    "plt.show()"
   ]
  },
  {
   "cell_type": "code",
   "execution_count": null,
   "metadata": {},
   "outputs": [],
   "source": []
  }
 ],
 "metadata": {
  "kernelspec": {
   "display_name": "Python 3",
   "language": "python",
   "name": "python3"
  },
  "language_info": {
   "codemirror_mode": {
    "name": "ipython",
    "version": 3
   },
   "file_extension": ".py",
   "mimetype": "text/x-python",
   "name": "python",
   "nbconvert_exporter": "python",
   "pygments_lexer": "ipython3",
   "version": "3.8.3"
  }
 },
 "nbformat": 4,
 "nbformat_minor": 4
}
